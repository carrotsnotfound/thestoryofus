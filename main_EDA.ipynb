{
 "cells": [
  {
   "cell_type": "code",
   "execution_count": 1,
   "metadata": {},
   "outputs": [],
   "source": [
    "## Exploratory Data Analysis for the couple text-message insights"
   ]
  },
  {
   "cell_type": "code",
   "execution_count": 2,
   "metadata": {},
   "outputs": [],
   "source": [
    "import pandas as pd\n",
    "import nltk\n",
    "import json"
   ]
  },
  {
   "cell_type": "code",
   "execution_count": 3,
   "metadata": {},
   "outputs": [],
   "source": [
    "with open('result.json') as f:\n",
    "    chatlog_raw = json.load(f)\n"
   ]
  },
  {
   "cell_type": "code",
   "execution_count": 4,
   "metadata": {},
   "outputs": [],
   "source": [
    "df_chatlog = pd.DataFrame(chatlog_raw['messages'])"
   ]
  },
  {
   "cell_type": "code",
   "execution_count": 5,
   "metadata": {},
   "outputs": [
    {
     "name": "stdout",
     "output_type": "stream",
     "text": [
      "<class 'pandas.core.frame.DataFrame'>\n",
      "RangeIndex: 192772 entries, 0 to 192771\n",
      "Data columns (total 28 columns):\n",
      " #   Column                        Non-Null Count   Dtype  \n",
      "---  ------                        --------------   -----  \n",
      " 0   id                            192772 non-null  int64  \n",
      " 1   type                          192772 non-null  object \n",
      " 2   date                          192772 non-null  object \n",
      " 3   from                          192741 non-null  object \n",
      " 4   from_id                       192741 non-null  float64\n",
      " 5   text                          192772 non-null  object \n",
      " 6   reply_to_message_id           10346 non-null   float64\n",
      " 7   edited                        4058 non-null    object \n",
      " 8   forwarded_from                915 non-null     object \n",
      " 9   photo                         3065 non-null    object \n",
      " 10  width                         13183 non-null   float64\n",
      " 11  height                        13183 non-null   float64\n",
      " 12  file                          10562 non-null   object \n",
      " 13  thumbnail                     10361 non-null   object \n",
      " 14  media_type                    10499 non-null   object \n",
      " 15  sticker_emoji                 8334 non-null    object \n",
      " 16  mime_type                     2204 non-null    object \n",
      " 17  duration_seconds              2163 non-null    float64\n",
      " 18  via_bot                       54 non-null      object \n",
      " 19  actor                         31 non-null      object \n",
      " 20  actor_id                      31 non-null      float64\n",
      " 21  action                        31 non-null      object \n",
      " 22  discard_reason                31 non-null      object \n",
      " 23  place_name                    1 non-null       object \n",
      " 24  address                       1 non-null       object \n",
      " 25  location_information          5 non-null       object \n",
      " 26  live_location_period_seconds  1 non-null       float64\n",
      " 27  poll                          1 non-null       object \n",
      "dtypes: float64(7), int64(1), object(20)\n",
      "memory usage: 41.2+ MB\n"
     ]
    }
   ],
   "source": [
    "df_chatlog.info()"
   ]
  },
  {
   "cell_type": "code",
   "execution_count": 6,
   "metadata": {},
   "outputs": [
    {
     "data": {
      "text/plain": [
       "array(['message', 'service'], dtype=object)"
      ]
     },
     "execution_count": 6,
     "metadata": {},
     "output_type": "execute_result"
    }
   ],
   "source": [
    "df_chatlog['type'].unique()"
   ]
  },
  {
   "cell_type": "code",
   "execution_count": 7,
   "metadata": {},
   "outputs": [],
   "source": [
    "# records with type == 'service' are records of when calls were made\n",
    "# -> filter records \n",
    "df_mo = df_chatlog[df_chatlog['type'].map(lambda x: x=='message')]"
   ]
  },
  {
   "cell_type": "code",
   "execution_count": 11,
   "metadata": {},
   "outputs": [],
   "source": [
    "from nltk.corpus import stopwords \n",
    "from nltk.tokenize import RegexpTokenizer \n",
    "\n",
    "stop_words = set(stopwords.words('english')) \n",
    "tokenizer = RegexpTokenizer('\\w+|\\$[\\d\\.]+|\\S+')"
   ]
  },
  {
   "cell_type": "code",
   "execution_count": 20,
   "metadata": {},
   "outputs": [
    {
     "name": "stderr",
     "output_type": "stream",
     "text": [
      "<ipython-input-20-cb3661f48e0f>:18: SettingWithCopyWarning: \n",
      "A value is trying to be set on a copy of a slice from a DataFrame.\n",
      "Try using .loc[row_indexer,col_indexer] = value instead\n",
      "\n",
      "See the caveats in the documentation: https://pandas.pydata.org/pandas-docs/stable/user_guide/indexing.html#returning-a-view-versus-a-copy\n",
      "  df_mo['text_processed'] = df_mo['text'].map(lambda x: process_message(x))\n"
     ]
    }
   ],
   "source": [
    "def process_message(txt):\n",
    "    _processed = []\n",
    "    \n",
    "    if type(txt) == list:\n",
    "        txt = [item['text'] if type(item) == dict else item for item in txt]\n",
    "        txt = ' '.join(txt)\n",
    "    \n",
    "    _tokens = tokenizer.tokenize(txt)\n",
    "    for token in _tokens:\n",
    "        _lower = token.lower()\n",
    "        if _lower in stop_words:\n",
    "            continue\n",
    "        else:\n",
    "            _processed.append(_lower)\n",
    "            \n",
    "    return _processed\n",
    "\n",
    "df_mo['text_processed'] = df_mo['text'].map(lambda x: process_message(x))"
   ]
  },
  {
   "cell_type": "code",
   "execution_count": 21,
   "metadata": {},
   "outputs": [
    {
     "data": {
      "text/plain": [
       "0                         [hey, melissa, !, alfred, 🍉]\n",
       "1                        ['s, friday, evening, far, ?]\n",
       "2    ['m, laying, floor, living, room, \"warm, cold,...\n",
       "3                               [bass, feels, nice, 😍]\n",
       "4                                      [hello, alfred]\n",
       "Name: text_processed, dtype: object"
      ]
     },
     "execution_count": 21,
     "metadata": {},
     "output_type": "execute_result"
    }
   ],
   "source": [
    "df_mo['text_processed'].head()"
   ]
  },
  {
   "cell_type": "code",
   "execution_count": 25,
   "metadata": {},
   "outputs": [],
   "source": [
    "fdist = nltk.FreqDist()\n",
    "for index, item in df_mo['text_processed'].iteritems():\n",
    "    for word in item:\n",
    "        fdist[word] += 1\n",
    "        "
   ]
  },
  {
   "cell_type": "code",
   "execution_count": 28,
   "metadata": {},
   "outputs": [
    {
     "data": {
      "text/plain": [
       "[('u', 20093),\n",
       " ('bb', 10432),\n",
       " ('?', 10397),\n",
       " ('love', 5607),\n",
       " ('hehe', 5540),\n",
       " ('like', 5257),\n",
       " (',', 4894),\n",
       " ('yes', 4635),\n",
       " ('babe', 4585),\n",
       " (\"'s\", 4460),\n",
       " ('go', 4404),\n",
       " ('mi', 4304),\n",
       " ('think', 4016),\n",
       " ('!', 4008),\n",
       " ('n', 3916),\n",
       " ('ok', 3793),\n",
       " ('❤️', 3691),\n",
       " ('im', 3678),\n",
       " (\"'t\", 3477),\n",
       " ('ur', 3464),\n",
       " ('.', 3403),\n",
       " ('also', 3396),\n",
       " ('good', 3349),\n",
       " (\"'m\", 3304),\n",
       " ('time', 3286),\n",
       " ('hahaha', 3205),\n",
       " ('r', 3166),\n",
       " ('boo', 3108),\n",
       " ('get', 2870),\n",
       " ('okay', 2797),\n",
       " ('haha', 2529),\n",
       " ('...', 2415),\n",
       " ('!!!', 2411),\n",
       " ('work', 2293),\n",
       " (\"'ll\", 2217),\n",
       " ('today', 2139),\n",
       " ('nice', 2080),\n",
       " ('see', 2032),\n",
       " ('!!', 2004),\n",
       " (\"'re\", 1951),\n",
       " ('w', 1936),\n",
       " ('one', 1900),\n",
       " ('gonna', 1895),\n",
       " ('sleep', 1863),\n",
       " ('got', 1859),\n",
       " ('much', 1789),\n",
       " ('rly', 1766),\n",
       " ('omg', 1762),\n",
       " ('day', 1755),\n",
       " ('sure', 1668)]"
      ]
     },
     "execution_count": 28,
     "metadata": {},
     "output_type": "execute_result"
    }
   ],
   "source": [
    "fdist.most_common(50)"
   ]
  },
  {
   "cell_type": "code",
   "execution_count": null,
   "metadata": {},
   "outputs": [],
   "source": []
  }
 ],
 "metadata": {
  "kernelspec": {
   "display_name": "Python 3",
   "language": "python",
   "name": "python3"
  },
  "language_info": {
   "codemirror_mode": {
    "name": "ipython",
    "version": 3
   },
   "file_extension": ".py",
   "mimetype": "text/x-python",
   "name": "python",
   "nbconvert_exporter": "python",
   "pygments_lexer": "ipython3",
   "version": "3.8.3"
  }
 },
 "nbformat": 4,
 "nbformat_minor": 4
}
